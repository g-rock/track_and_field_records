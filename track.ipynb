{
 "cells": [
  {
   "cell_type": "code",
   "execution_count": 1,
   "metadata": {
    "collapsed": true
   },
   "outputs": [],
   "source": [
    "import pandas as pd"
   ]
  },
  {
   "cell_type": "code",
   "execution_count": 2,
   "metadata": {
    "collapsed": false
   },
   "outputs": [],
   "source": [
    "df = pd.read_csv(\"records.csv\", header=None)"
   ]
  },
  {
   "cell_type": "code",
   "execution_count": 3,
   "metadata": {
    "collapsed": false
   },
   "outputs": [],
   "source": [
    "records = pd.DataFrame(df[7].str.split(' ').tolist())"
   ]
  },
  {
   "cell_type": "code",
   "execution_count": 4,
   "metadata": {
    "collapsed": false
   },
   "outputs": [],
   "source": [
    "records[\"record\"] = df[8]\n",
    "del records[2]\n",
    "records = records.apply(lambda x: x.astype(str).str.lower())"
   ]
  },
  {
   "cell_type": "code",
   "execution_count": 5,
   "metadata": {
    "collapsed": false
   },
   "outputs": [],
   "source": [
    "tfrrs_dict = {\n",
    "    \"60hurdles\": \"60h\",\n",
    "    \"1run\": \"1mile\",\n",
    "    \"2run\": \"2mile\",\n",
    "    \"indoor\": \"ipentathlon\",\n",
    "    \"distance\": \"4000dmr\",\n",
    "    \"high\": \"hj\",\n",
    "    \"long\": \"lj\",\n",
    "    \"pole\": \"pv\",\n",
    "    \"triple\": \"tj\",\n",
    "    \"shot\": \"sp\",\n",
    "    \"weight\": \"wt\",\n",
    "    \n",
    "}    \n",
    "    "
   ]
  },
  {
   "cell_type": "code",
   "execution_count": 6,
   "metadata": {
    "collapsed": false
   },
   "outputs": [],
   "source": [
    "for index, row in records.iterrows():\n",
    "    if row[3] != \"none\":\n",
    "        key = row[1] + row[3]\n",
    "        if tfrrs_dict.has_key(key):\n",
    "            records.set_value(index, 1, tfrrs_dict[key])\n",
    "        \n",
    "    else:\n",
    "        key = row[1]\n",
    "        if tfrrs_dict.has_key(key):\n",
    "            records.set_value(index, 1, tfrrs_dict[key])"
   ]
  },
  {
   "cell_type": "code",
   "execution_count": 7,
   "metadata": {
    "collapsed": true
   },
   "outputs": [],
   "source": [
    "meet = pd.read_csv(\"tfrrs.csv\", header=None)\n",
    "meet[\"record\"] = \"\""
   ]
  },
  {
   "cell_type": "code",
   "execution_count": 8,
   "metadata": {
    "collapsed": false
   },
   "outputs": [],
   "source": [
    "for index, row in meet.iterrows():\n",
    "    gender = (meet[1][index]).lower()\n",
    "    event_identifier = (meet[0][index]).lower()\n",
    "    meet.set_value(index, \"record\", records.loc[(records[0] == gender) & (records[1] == event_identifier)].iloc[0]['record'])"
   ]
  },
  {
   "cell_type": "code",
   "execution_count": 9,
   "metadata": {
    "collapsed": false
   },
   "outputs": [],
   "source": [
    "meet[7] = meet[7].fillna(1500).astype(int)\n",
    "meet.to_csv('newtfrrs.csv', header=False, index=False)"
   ]
  }
 ],
 "metadata": {
  "anaconda-cloud": {},
  "kernelspec": {
   "display_name": "Python [default]",
   "language": "python",
   "name": "python2"
  },
  "language_info": {
   "codemirror_mode": {
    "name": "ipython",
    "version": 2
   },
   "file_extension": ".py",
   "mimetype": "text/x-python",
   "name": "python",
   "nbconvert_exporter": "python",
   "pygments_lexer": "ipython2",
   "version": "2.7.9"
  }
 },
 "nbformat": 4,
 "nbformat_minor": 1
}
